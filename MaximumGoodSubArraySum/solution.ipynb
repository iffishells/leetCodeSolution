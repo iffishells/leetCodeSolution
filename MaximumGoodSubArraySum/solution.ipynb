{
 "cells": [
  {
   "cell_type": "code",
   "execution_count": 2,
   "id": "d90134f4-87f5-41e8-8c0d-f484770c769d",
   "metadata": {},
   "outputs": [],
   "source": [
    "from typing import List"
   ]
  },
  {
   "cell_type": "code",
   "execution_count": 25,
   "id": "518108c8-6d66-458a-be47-4a8ceeb3cc82",
   "metadata": {},
   "outputs": [],
   "source": [
    "class Solution:\n",
    "    def maximumSubarraySum(self, nums: List[int], k: int) -> int:\n",
    "        good_sum_arry = []\n",
    "        sum_list = []\n",
    "        max_sum_array_count = -class Solution:\n",
    "    def maximumSubarraySum(self, nums: List[int], k: int) -> int:\n",
    "        # 1. Compute prefix sum list\n",
    "        prefix = [nums[0]]\n",
    "        for n in nums[1:]:\n",
    "            prefix.append(prefix[-1]+n)\n",
    "        \n",
    "        # 2. dict with\n",
    "        #     key as a [number] in the list (from right side for list)\n",
    "        #     value as prefix sum until that [nunber]\n",
    "        d = collections.defaultdict(int)\n",
    "        \n",
    "        # 3. result\n",
    "        res = 0\n",
    "        for n,ps in reversed(zip(nums, prefix)):\n",
    "            # 4. find the maximum prefix sum from the right side of array\n",
    "            #       with n+k, n-k as key\n",
    "            if n+k in d:\n",
    "                res = max(res, d[n+k]-ps+n)\n",
    "            if n-k in d:\n",
    "                res = max(res, d[n-k]-ps+n)\n",
    "\n",
    "            # 5. add the current prefix sum with key n to the dictionary \n",
    "            d[n] = max(d[n], ps) if n in d else ps\n",
    "        return res if res else 0\n",
    "\n",
    "assert Solution().maximumSubarraySum([1,2,3,4,5,6], 1) == 11\n",
    "        temp = max_sum_array_count\n",
    "        for i in range(len(nums)):\n",
    "            for j in range(i,len(nums)+1):\n",
    "                sub_array = nums[i:j]\n",
    "                if len(sub_array)!=0:\n",
    "                    difference = abs(sub_array[0] - sub_array[-1]) \n",
    "                    if difference == k:\n",
    "                        sum_vector = sum(sub_array)\n",
    "                        # print(f\"sum_vector : {sum_vector} of {sub_array}\")\n",
    "                        if sum_vector >= max_sum_array_count:\n",
    "                            max_sum_array_count =  sum_vector\n",
    "        if max_sum_array_count==   temp :\n",
    "            return 0\n",
    "        else:\n",
    "            return max_sum_array_count\n",
    "\n",
    "        # print(f\"max_sum_array_count : {max_sum_array_count}\")\n",
    "        # if len(sum_list)!=0:\n",
    "        #     return max(sum_list)\n",
    "        # else:\n",
    "        #     return 0\n"
   ]
  },
  {
   "cell_type": "code",
   "execution_count": 26,
   "id": "c3ad5f72-58c8-4cf0-87e2-0e8b54ca145c",
   "metadata": {},
   "outputs": [
    {
     "data": {
      "text/plain": [
       "-6"
      ]
     },
     "execution_count": 26,
     "metadata": {},
     "output_type": "execute_result"
    }
   ],
   "source": [
    "nums = [-1,-2,-3,-4]\n",
    "k = 2\n",
    "solution = Solution()\n",
    "solution.maximumSubarraySum(nums=nums,\n",
    "                           k=k)"
   ]
  },
  {
   "cell_type": "code",
   "execution_count": 24,
   "id": "f071db1f-eb45-4624-bee5-b503133df917",
   "metadata": {},
   "outputs": [
    {
     "data": {
      "text/plain": [
       "False"
      ]
     },
     "execution_count": 24,
     "metadata": {},
     "output_type": "execute_result"
    }
   ],
   "source": [
    "max_sum_array_count = float('-inf')\n",
    "max_sum_array_count>0"
   ]
  },
  {
   "cell_type": "code",
   "execution_count": 78,
   "id": "b360f428-6de5-4df6-bd91-a24c700c6f69",
   "metadata": {},
   "outputs": [
    {
     "name": "stdout",
     "output_type": "stream",
     "text": [
      "0\n",
      "1\n",
      "2\n",
      "3\n",
      "4\n",
      "5\n",
      "6\n",
      "7\n",
      "8\n",
      "9\n"
     ]
    }
   ],
   "source": [
    "for i in range(10):\n",
    "    print(i)"
   ]
  },
  {
   "cell_type": "code",
   "execution_count": null,
   "id": "38ae6566-edf3-4734-bc27-0e2cbac2b1c1",
   "metadata": {},
   "outputs": [],
   "source": [
    "from typing import List\n",
    "\n",
    "class Solution:\n",
    "    def maximumSubarraySum(self, nums: List[int], k: int) -> int:\n",
    "        current_max = float('-inf')\n",
    "        n = len(nums)\n",
    "\n",
    "        for i in range(n):\n",
    "            current_sum = 0\n",
    "            for j in range(i, n):\n",
    "                current_sum += nums[j]\n",
    "                \n",
    "                if abs(nums[j] - nums[i]) == k:\n",
    "                    current_max = max(current_max, current_sum)\n",
    "\n",
    "        return current_max if current_max != float('-inf') else 0\n",
    "\n",
    "solution = Solution()\n",
    "\n",
    "nums = [-1, -2, -3, -4]\n",
    "k = 2\n",
    "\n",
    "print(solution.maximumSubarraySum(nums=nums, k=k))"
   ]
  },
  {
   "cell_type": "code",
   "execution_count": 28,
   "id": "8046cbc9-fc17-447c-9684-7e130b2e0fc9",
   "metadata": {},
   "outputs": [
    {
     "ename": "TypeError",
     "evalue": "'zip' object is not reversible",
     "output_type": "error",
     "traceback": [
      "\u001b[0;31m---------------------------------------------------------------------------\u001b[0m",
      "\u001b[0;31mTypeError\u001b[0m                                 Traceback (most recent call last)",
      "Cell \u001b[0;32mIn[28], line 28\u001b[0m\n\u001b[1;32m     25\u001b[0m             d[n] \u001b[38;5;241m=\u001b[39m \u001b[38;5;28mmax\u001b[39m(d[n], ps) \u001b[38;5;28;01mif\u001b[39;00m n \u001b[38;5;129;01min\u001b[39;00m d \u001b[38;5;28;01melse\u001b[39;00m ps\n\u001b[1;32m     26\u001b[0m         \u001b[38;5;28;01mreturn\u001b[39;00m res \u001b[38;5;28;01mif\u001b[39;00m res \u001b[38;5;28;01melse\u001b[39;00m \u001b[38;5;241m0\u001b[39m\n\u001b[0;32m---> 28\u001b[0m \u001b[38;5;28;01massert\u001b[39;00m \u001b[43mSolution\u001b[49m\u001b[43m(\u001b[49m\u001b[43m)\u001b[49m\u001b[38;5;241;43m.\u001b[39;49m\u001b[43mmaximumSubarraySum\u001b[49m\u001b[43m(\u001b[49m\u001b[43m[\u001b[49m\u001b[38;5;241;43m1\u001b[39;49m\u001b[43m,\u001b[49m\u001b[38;5;241;43m2\u001b[39;49m\u001b[43m,\u001b[49m\u001b[38;5;241;43m3\u001b[39;49m\u001b[43m,\u001b[49m\u001b[38;5;241;43m4\u001b[39;49m\u001b[43m,\u001b[49m\u001b[38;5;241;43m5\u001b[39;49m\u001b[43m,\u001b[49m\u001b[38;5;241;43m6\u001b[39;49m\u001b[43m]\u001b[49m\u001b[43m,\u001b[49m\u001b[43m \u001b[49m\u001b[38;5;241;43m1\u001b[39;49m\u001b[43m)\u001b[49m \u001b[38;5;241m==\u001b[39m \u001b[38;5;241m11\u001b[39m\n",
      "Cell \u001b[0;32mIn[28], line 16\u001b[0m, in \u001b[0;36mSolution.maximumSubarraySum\u001b[0;34m(self, nums, k)\u001b[0m\n\u001b[1;32m     14\u001b[0m \u001b[38;5;66;03m# 3. result\u001b[39;00m\n\u001b[1;32m     15\u001b[0m res \u001b[38;5;241m=\u001b[39m \u001b[38;5;241m0\u001b[39m\n\u001b[0;32m---> 16\u001b[0m \u001b[38;5;28;01mfor\u001b[39;00m n,ps \u001b[38;5;129;01min\u001b[39;00m \u001b[38;5;28;43mreversed\u001b[39;49m\u001b[43m(\u001b[49m\u001b[38;5;28;43mzip\u001b[39;49m\u001b[43m(\u001b[49m\u001b[43mnums\u001b[49m\u001b[43m,\u001b[49m\u001b[43m \u001b[49m\u001b[43mprefix\u001b[49m\u001b[43m)\u001b[49m\u001b[43m)\u001b[49m:\n\u001b[1;32m     17\u001b[0m     \u001b[38;5;66;03m# 4. find the maximum prefix sum from the right side of array\u001b[39;00m\n\u001b[1;32m     18\u001b[0m     \u001b[38;5;66;03m#       with n+k, n-k as key\u001b[39;00m\n\u001b[1;32m     19\u001b[0m     \u001b[38;5;28;01mif\u001b[39;00m n\u001b[38;5;241m+\u001b[39mk \u001b[38;5;129;01min\u001b[39;00m d:\n\u001b[1;32m     20\u001b[0m         res \u001b[38;5;241m=\u001b[39m \u001b[38;5;28mmax\u001b[39m(res, d[n\u001b[38;5;241m+\u001b[39mk]\u001b[38;5;241m-\u001b[39mps\u001b[38;5;241m+\u001b[39mn)\n",
      "\u001b[0;31mTypeError\u001b[0m: 'zip' object is not reversible"
     ]
    }
   ],
   "source": [
    "import collections\n",
    "class Solution:\n",
    "    def maximumSubarraySum(self, nums: List[int], k: int) -> int:\n",
    "        # 1. Compute prefix sum list\n",
    "        prefix = [nums[0]]\n",
    "        for n in nums[1:]:\n",
    "            prefix.append(prefix[-1]+n)\n",
    "        \n",
    "        # 2. dict with\n",
    "        #     key as a [number] in the list (from right side for list)\n",
    "        #     value as prefix sum until that [nunber]\n",
    "        d = collections.defaultdict(int)\n",
    "        \n",
    "        # 3. result\n",
    "        res = 0\n",
    "        for n,ps in reversed(zip(nums, prefix)):\n",
    "            # 4. find the maximum prefix sum from the right side of array\n",
    "            #       with n+k, n-k as key\n",
    "            if n+k in d:\n",
    "                res = max(res, d[n+k]-ps+n)\n",
    "            if n-k in d:\n",
    "                res = max(res, d[n-k]-ps+n)\n",
    "\n",
    "            # 5. add the current prefix sum with key n to the dictionary \n",
    "            d[n] = max(d[n], ps) if n in d else ps\n",
    "        return res if res else 0\n",
    "\n",
    "assert Solution().maximumSubarraySum([1,2,3,4,5,6], 1) == 11"
   ]
  },
  {
   "cell_type": "code",
   "execution_count": null,
   "id": "a43e402d-c079-4b84-a417-48fb88f60d21",
   "metadata": {},
   "outputs": [],
   "source": []
  }
 ],
 "metadata": {
  "kernelspec": {
   "display_name": "Python 3 (ipykernel)",
   "language": "python",
   "name": "python3"
  },
  "language_info": {
   "codemirror_mode": {
    "name": "ipython",
    "version": 3
   },
   "file_extension": ".py",
   "mimetype": "text/x-python",
   "name": "python",
   "nbconvert_exporter": "python",
   "pygments_lexer": "ipython3",
   "version": "3.12.3"
  }
 },
 "nbformat": 4,
 "nbformat_minor": 5
}
